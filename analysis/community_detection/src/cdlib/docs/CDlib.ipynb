{
  "cells": [
    {
      "cell_type": "markdown",
      "source": [
        "<span>\n",
        "<img src=\"https://cdlib.readthedocs.io/en/latest/_static/cdlogo.png\" width=\"260px\" align=\"right\"/>\n",
        "</span>\n",
        "<span>\n",
        "<b>Author:</b> <a href=\"http://about.giuliorossetti.net\">Giulio Rossetti</a><br/>\n",
        "<b>Python version:</b>  3.7<br/>\n",
        "<b>NDlib version:</b>  0.1.2<br/>\n",
        "<b>Last update:</b> 6/03/2019\n",
        "</span>"
      ],
      "metadata": {
        "id": "kmQoy8B64bpZ",
        "colab_type": "text"
      }
    },
    {
      "cell_type": "code",
      "source": [
        "import warnings\n",
        "warnings.filterwarnings('ignore')"
      ],
      "outputs": [],
      "execution_count": null,
      "metadata": {
        "id": "9xPDqr9B4bpb",
        "colab_type": "code",
        "colab": {}
      }
    },
    {
      "cell_type": "markdown",
      "source": [
        "<a id='top'></a>\n",
        "# *Intro to CDlib: Community Discovery library*\n",
        "\n",
        "``CDlib`` is a python library designed to provide support the extraction and analysis of network clusterings.\n",
        "\n",
        "In this notebook are introduced some of the main features of the library and an overview of its functionalities.\n",
        "\n",
        "**Note:** this notebook is purposely not 100% comprehensive, it only discusses the basic things you need to get started. For all the details, algorithm/methods/evaluation facilities available, please refer to the official [documentation](https://cdlib.readthedocs.io)."
      ],
      "metadata": {
        "id": "f5lduCKj4bpi",
        "colab_type": "text"
      }
    },
    {
      "cell_type": "markdown",
      "source": [
        "## Table of Contents\n",
        "\n",
        "1. [Installing CDlib](#install)\n",
        "2. [Community Discovery Workflow](#workflow)\n",
        "    1. [Graph Creation](#graph)\n",
        "    2. [Community Discovery algorithm(s) selection and configuration ](#model)\n",
        "    3. [Clustering Evaluation (Fitness functions)](#fitness)\n",
        "    4. [Clustering Evaluation (Comparison)](#comparison)\n",
        "    5. [Community/Statistics Visualization](#visualization)\n",
        "3. [Advanced facilities: Pooling and Optimization](#advanced)\n",
        "    1. [Pooling](#pooling)\n",
        "    2. [Optimization](#optimization)\n",
        "4. [Conclusions](#conclusion)"
      ],
      "metadata": {
        "id": "wxK7cEmr4bpj",
        "colab_type": "text"
      }
    },
    {
      "cell_type": "markdown",
      "source": [
        "<a id='install'></a>\n",
        "## 1. Installing CDlib ([to top](#top))"
      ],
      "metadata": {
        "id": "hM7cC4hC4bpl",
        "colab_type": "text"
      }
    },
    {
      "cell_type": "markdown",
      "source": [
        "As a first step, we need to make sure that ``CDlib`` is installed and working.\n",
        "\n",
        "The library is available for python 3.7, and its stable version can be installed using ``pip``:"
      ],
      "metadata": {
        "id": "2Np6XG4L4bpn",
        "colab_type": "text"
      }
    },
    {
      "cell_type": "markdown",
      "source": [
        "    pip install cdlib"
      ],
      "metadata": {
        "id": "ASHO-3yU4bpp",
        "colab_type": "text"
      }
    },
    {
      "cell_type": "markdown",
      "source": [
        "On the project [GitHub](https://github.com/GiulioRossetti/cdlib) are also available the nightly builds that can be installed as follows:"
      ],
      "metadata": {
        "id": "Td-_4gpF4bpq",
        "colab_type": "text"
      }
    },
    {
      "cell_type": "markdown",
      "source": [
        "    pip install git+https://github.com/GiulioRossetti/ndlib.git > /dev/null"
      ],
      "metadata": {
        "id": "kdUTSMGR4bpr",
        "colab_type": "text"
      }
    },
    {
      "cell_type": "markdown",
      "source": [
        "In order to check if ``cdlib`` has been correctly installed just try to import it"
      ],
      "metadata": {
        "id": "r58mJg414bpr",
        "colab_type": "text"
      }
    },
    {
      "cell_type": "code",
      "source": [
        "import cdlib"
      ],
      "outputs": [],
      "execution_count": 1,
      "metadata": {
        "id": "Oj_-Xhh_4bps",
        "colab_type": "code",
        "colab": {},
        "execution": {
          "iopub.status.busy": "2020-06-26T13:47:39.153Z",
          "iopub.execute_input": "2020-06-26T13:47:39.168Z",
          "iopub.status.idle": "2020-06-26T13:47:42.653Z",
          "shell.execute_reply": "2020-06-26T13:47:42.667Z"
        }
      }
    },
    {
      "cell_type": "markdown",
      "source": [
        "<a id='workflow'></a>\n",
        "## 2. Community Discovery Workflow ([to top](#top))\n",
        "\n",
        "``CDlib`` allows to extract, analyze and compare network clustering applying several approaches.\n",
        "The standard workflow can be summarized as:\n",
        "- Network Creation\n",
        "- Community Discovery algorithm(s) selection and configuration\n",
        "- Clustering(s) evaluation (Fitness functions)\n",
        "- Clustering(s) evaluation (Comparisons)\n",
        "- Community/Statistics Visualization\n",
        "\n",
        "In this section we will observe how to templating such workflow applying two classic network clustering algorithms: Label Propagation and Leiden."
      ],
      "metadata": {
        "id": "w-EoeS7r4bpu",
        "colab_type": "text"
      }
    },
    {
      "cell_type": "markdown",
      "source": [
        "<a id=\"graph\"></a>\n",
        "### 2.A Graph object creation ([to top](#top))"
      ],
      "metadata": {
        "id": "9faTvGVd4bpv",
        "colab_type": "text"
      }
    },
    {
      "cell_type": "markdown",
      "source": [
        "As a first step we need to define the network topology that will be used as playground to study diffusive phenomena.\n",
        "\n",
        "``CDlib`` natively supports both [``networkx``](https://networkx.github.io) and [``igraph``](https://igraph.org/python/) data structures.\n",
        "\n",
        "In our examples, for the sake of simplicity, we will use ``networkx`` undirected graphs. "
      ],
      "metadata": {
        "id": "KpUSn8jg4bpv",
        "colab_type": "text"
      }
    },
    {
      "cell_type": "code",
      "source": [
        "import networkx as nx\n",
        "\n",
        "g = nx.karate_club_graph()"
      ],
      "outputs": [],
      "execution_count": 2,
      "metadata": {
        "id": "ZCecgAep4bpw",
        "colab_type": "code",
        "colab": {},
        "execution": {
          "iopub.status.busy": "2020-06-26T13:47:48.579Z",
          "iopub.execute_input": "2020-06-26T13:47:48.595Z",
          "iopub.status.idle": "2020-06-26T13:47:48.624Z",
          "shell.execute_reply": "2020-06-26T13:47:48.637Z"
        }
      }
    },
    {
      "cell_type": "markdown",
      "source": [
        "<a id=\"model\"></a>\n",
        "### 2.B Community Discovery algorithm(s) selection and configuration ([to top](#top))\n",
        "\n",
        "After having defined the graph, we can select the algorithm(s) to partition it."
      ],
      "metadata": {
        "id": "MAcV1ChP4bpz",
        "colab_type": "text"
      }
    },
    {
      "cell_type": "code",
      "source": [
        "from cdlib import algorithms"
      ],
      "outputs": [],
      "execution_count": 3,
      "metadata": {
        "id": "tkWDOaFb4bp0",
        "colab_type": "code",
        "colab": {},
        "execution": {
          "iopub.status.busy": "2020-06-26T13:47:50.021Z",
          "iopub.execute_input": "2020-06-26T13:47:50.034Z",
          "iopub.status.idle": "2020-06-26T13:48:00.595Z",
          "shell.execute_reply": "2020-06-26T13:48:00.865Z"
        }
      }
    },
    {
      "cell_type": "code",
      "source": [
        "lp_coms = algorithms.label_propagation(g)"
      ],
      "outputs": [],
      "execution_count": 4,
      "metadata": {
        "id": "BDdaqGm84bp3",
        "colab_type": "code",
        "colab": {},
        "execution": {
          "iopub.status.busy": "2020-06-26T13:48:00.616Z",
          "iopub.execute_input": "2020-06-26T13:48:00.629Z",
          "iopub.status.idle": "2020-06-26T13:48:00.651Z",
          "shell.execute_reply": "2020-06-26T13:48:00.871Z"
        }
      }
    },
    {
      "cell_type": "code",
      "source": [
        "leiden_coms = algorithms.leiden(g)"
      ],
      "outputs": [],
      "execution_count": 5,
      "metadata": {
        "id": "OppJzeZJ4bp5",
        "colab_type": "code",
        "colab": {},
        "execution": {
          "iopub.status.busy": "2020-06-26T13:48:00.669Z",
          "iopub.execute_input": "2020-06-26T13:48:00.679Z",
          "iopub.status.idle": "2020-06-26T13:48:00.699Z",
          "shell.execute_reply": "2020-06-26T13:48:00.877Z"
        }
      }
    },
    {
      "cell_type": "markdown",
      "source": [
        "All Community Discovery algorithms generate as result an object that implements a concrete instance of the ``Clustering`` datatype.\n",
        "\n",
        "In particular, both Louvain and Label Propagation returns a ``NodeClustering`` object having the following propterties:"
      ],
      "metadata": {
        "id": "WhJGYakS4bp8",
        "colab_type": "text"
      }
    },
    {
      "cell_type": "code",
      "source": [
        "leiden_coms.method_name # Clustering algorithm name"
      ],
      "outputs": [
        {
          "output_type": "execute_result",
          "execution_count": 6,
          "data": {
            "text/plain": [
              "'Leiden'"
            ]
          },
          "metadata": {}
        }
      ],
      "execution_count": 6,
      "metadata": {
        "id": "TU6zPOrS4bp8",
        "colab_type": "code",
        "colab": {},
        "outputId": "bea6a090-892f-4f01-f9c1-eed7cf9bbb03",
        "execution": {
          "iopub.status.busy": "2020-06-26T13:48:00.714Z",
          "iopub.execute_input": "2020-06-26T13:48:00.723Z",
          "iopub.status.idle": "2020-06-26T13:48:00.752Z",
          "shell.execute_reply": "2020-06-26T13:48:00.883Z"
        }
      }
    },
    {
      "cell_type": "code",
      "source": [
        "leiden_coms.method_parameters # Clustering parameters"
      ],
      "outputs": [
        {
          "output_type": "execute_result",
          "execution_count": 7,
          "data": {
            "text/plain": [
              "{'initial_membership': None, 'weights': None}"
            ]
          },
          "metadata": {}
        }
      ],
      "execution_count": 7,
      "metadata": {
        "id": "7TY2w0Z24bp_",
        "colab_type": "code",
        "colab": {},
        "outputId": "d5827813-aeea-454c-f07b-433b0e6d0378",
        "execution": {
          "iopub.status.busy": "2020-06-26T13:48:00.773Z",
          "iopub.execute_input": "2020-06-26T13:48:00.786Z",
          "iopub.status.idle": "2020-06-26T13:48:00.809Z",
          "shell.execute_reply": "2020-06-26T13:48:00.891Z"
        }
      }
    },
    {
      "cell_type": "code",
      "source": [
        "leiden_coms.communities # Identified Clustering"
      ],
      "outputs": [
        {
          "output_type": "execute_result",
          "execution_count": 8,
          "data": {
            "text/plain": [
              "[[8, 9, 14, 15, 18, 20, 22, 26, 29, 30, 32, 33],\n",
              " [0, 1, 2, 3, 7, 11, 12, 13, 17, 19, 21],\n",
              " [23, 24, 25, 27, 28, 31],\n",
              " [4, 5, 6, 10, 16]]"
            ]
          },
          "metadata": {}
        }
      ],
      "execution_count": 8,
      "metadata": {
        "id": "wi6woMs34bqB",
        "colab_type": "code",
        "colab": {},
        "outputId": "aa873267-282a-4e21-f5a6-b18ccb88e82d",
        "execution": {
          "iopub.status.busy": "2020-06-26T13:48:00.824Z",
          "iopub.execute_input": "2020-06-26T13:48:00.833Z",
          "iopub.status.idle": "2020-06-26T13:48:00.856Z",
          "shell.execute_reply": "2020-06-26T13:48:00.897Z"
        }
      }
    },
    {
      "cell_type": "code",
      "source": [
        "leiden_coms.overlap # Wehter the clustering is overlapping or not"
      ],
      "outputs": [
        {
          "output_type": "execute_result",
          "execution_count": 9,
          "data": {
            "text/plain": [
              "False"
            ]
          },
          "metadata": {}
        }
      ],
      "execution_count": 9,
      "metadata": {
        "id": "SCwROsxD4bqD",
        "colab_type": "code",
        "colab": {},
        "outputId": "11fbac3b-0e79-4225-91ff-33394761dbfa",
        "execution": {
          "iopub.status.busy": "2020-06-26T13:48:02.920Z",
          "iopub.execute_input": "2020-06-26T13:48:02.929Z",
          "iopub.status.idle": "2020-06-26T13:48:02.956Z",
          "shell.execute_reply": "2020-06-26T13:48:02.966Z"
        }
      }
    },
    {
      "cell_type": "code",
      "source": [
        "leiden_coms.node_coverage # Percentage of nodes covered by the clustering"
      ],
      "outputs": [
        {
          "output_type": "execute_result",
          "execution_count": 10,
          "data": {
            "text/plain": [
              "1.0"
            ]
          },
          "metadata": {}
        }
      ],
      "execution_count": 10,
      "metadata": {
        "id": "ND-hQq2-4bqG",
        "colab_type": "code",
        "colab": {},
        "outputId": "f61b08b3-e028-4e8a-e374-9cdfa758bcab",
        "execution": {
          "iopub.status.busy": "2020-06-26T13:48:03.722Z",
          "iopub.execute_input": "2020-06-26T13:48:03.731Z",
          "iopub.status.idle": "2020-06-26T13:48:03.752Z",
          "shell.execute_reply": "2020-06-26T13:48:03.762Z"
        }
      }
    },
    {
      "cell_type": "markdown",
      "source": [
        "Moreover, ``Clustering`` object allow also for the generation of a JSON representation of the results"
      ],
      "metadata": {
        "id": "R_3Tal1H4bqH",
        "colab_type": "text"
      }
    },
    {
      "cell_type": "code",
      "source": [
        "leiden_coms.to_json()"
      ],
      "outputs": [
        {
          "output_type": "execute_result",
          "execution_count": 11,
          "data": {
            "text/plain": [
              "'{\"communities\": [[8, 9, 14, 15, 18, 20, 22, 26, 29, 30, 32, 33], [0, 1, 2, 3, 7, 11, 12, 13, 17, 19, 21], [23, 24, 25, 27, 28, 31], [4, 5, 6, 10, 16]], \"algorithm\": \"Leiden\", \"params\": {\"initial_membership\": null, \"weights\": null}, \"overlap\": false, \"coverage\": 1.0}'"
            ]
          },
          "metadata": {}
        }
      ],
      "execution_count": 11,
      "metadata": {
        "id": "bNwcAmZn4bqI",
        "colab_type": "code",
        "colab": {},
        "outputId": "95dd66f8-b36c-48b5-e3b0-ce7405c6f860",
        "execution": {
          "iopub.status.busy": "2020-06-26T13:48:04.445Z",
          "iopub.execute_input": "2020-06-26T13:48:04.454Z",
          "iopub.status.idle": "2020-06-26T13:48:04.474Z",
          "shell.execute_reply": "2020-06-26T13:48:04.482Z"
        }
      }
    },
    {
      "cell_type": "markdown",
      "source": [
        "<a id=\"fitness\"></a>\n",
        "### 2.C Clustering Evaluation (Fitness functions) ([to top](#top))\n",
        "\n",
        "After having obtained a network clustering we can compute several indexes upon it. \n",
        "\n",
        "For a same index it is possible to obtain a synthetic representation of its min/max/mean/std values"
      ],
      "metadata": {
        "id": "2bmTLTl-4bqJ",
        "colab_type": "text"
      }
    },
    {
      "cell_type": "code",
      "source": [
        "leiden_coms.average_internal_degree()"
      ],
      "outputs": [
        {
          "output_type": "execute_result",
          "execution_count": 12,
          "data": {
            "text/plain": [
              "FitnessResult(min=2.3333333333333335, max=4.181818181818182, score=3.103787878787879, std=0.7758948002447444)"
            ]
          },
          "metadata": {}
        }
      ],
      "execution_count": 12,
      "metadata": {
        "id": "Gf7P13nz4bqK",
        "colab_type": "code",
        "colab": {},
        "outputId": "520533cc-471a-45f9-df6a-2b77a22f0a1a",
        "execution": {
          "iopub.status.busy": "2020-06-26T13:48:04.984Z",
          "iopub.execute_input": "2020-06-26T13:48:04.992Z",
          "iopub.status.idle": "2020-06-26T13:48:05.012Z",
          "shell.execute_reply": "2020-06-26T13:48:05.020Z"
        }
      }
    },
    {
      "cell_type": "markdown",
      "source": [
        "as well as its communitiy-wise value"
      ],
      "metadata": {
        "id": "cNHIkcLc4bqM",
        "colab_type": "text"
      }
    },
    {
      "cell_type": "code",
      "source": [
        "leiden_coms.average_internal_degree(summary=False)"
      ],
      "outputs": [
        {
          "output_type": "execute_result",
          "execution_count": 13,
          "data": {
            "text/plain": [
              "[3.5, 4.181818181818182, 2.3333333333333335, 2.4]"
            ]
          },
          "metadata": {}
        }
      ],
      "execution_count": 13,
      "metadata": {
        "id": "Vc7xFELi4bqM",
        "colab_type": "code",
        "colab": {},
        "outputId": "cefb6441-23ea-4411-cbc1-a454d1598c01",
        "execution": {
          "iopub.status.busy": "2020-06-26T13:48:05.794Z",
          "iopub.execute_input": "2020-06-26T13:48:05.803Z",
          "iopub.status.idle": "2020-06-26T13:48:05.820Z",
          "shell.execute_reply": "2020-06-26T13:48:05.828Z"
        }
      }
    },
    {
      "cell_type": "markdown",
      "source": [
        "Fitness scores can also be instantiated at library level"
      ],
      "metadata": {
        "id": "JOgzNuWZ4bqO",
        "colab_type": "text"
      }
    },
    {
      "cell_type": "code",
      "source": [
        "from cdlib import evaluation\n",
        "\n",
        "evaluation.average_internal_degree(g, leiden_coms)"
      ],
      "outputs": [
        {
          "output_type": "execute_result",
          "execution_count": 14,
          "data": {
            "text/plain": [
              "FitnessResult(min=2.3333333333333335, max=4.181818181818182, score=3.103787878787879, std=0.7758948002447444)"
            ]
          },
          "metadata": {}
        }
      ],
      "execution_count": 14,
      "metadata": {
        "id": "AGNJuZUs4bqP",
        "colab_type": "code",
        "colab": {},
        "outputId": "f0be2b09-11ca-4daf-ccb8-d53426d5947b",
        "execution": {
          "iopub.status.busy": "2020-06-26T13:48:06.665Z",
          "iopub.execute_input": "2020-06-26T13:48:06.673Z",
          "iopub.status.idle": "2020-06-26T13:48:06.692Z",
          "shell.execute_reply": "2020-06-26T13:48:06.701Z"
        }
      }
    },
    {
      "cell_type": "markdown",
      "source": [
        "For the complete list of implemented fitness functions, refer to the online [documentation](https://cdlib.readthedocs.io/en/latest/reference/evaluation.html)."
      ],
      "metadata": {
        "id": "5f5L-MfZ4bqR",
        "colab_type": "text"
      }
    },
    {
      "cell_type": "markdown",
      "source": [
        "<a id=\"comparison\"></a>\n",
        "### 2.D Clustering Evaluation (Comparison) ([to top](#top))\n",
        "\n",
        "When multiple clustering have been computed on a same network it is useful to measure their resemblance.\n",
        "\n",
        "``CDlib`` allows to do so by exposing several clustering resemblance scores, each one of them tailored to support specific kind of network clusterings (crisp/partition, complete/partial node coverage).\n",
        "\n",
        "As for the fitness functions, resemblance scores can be instantiated at the community level as well as at the library level."
      ],
      "metadata": {
        "id": "sJ48In4F4bqR",
        "colab_type": "text"
      }
    },
    {
      "cell_type": "code",
      "source": [
        "leiden_coms.normalized_mutual_information(lp_coms)"
      ],
      "outputs": [
        {
          "output_type": "execute_result",
          "execution_count": 15,
          "data": {
            "text/plain": [
              "MatchingResult(score=0.5421597004371672, std=None)"
            ]
          },
          "metadata": {}
        }
      ],
      "execution_count": 15,
      "metadata": {
        "id": "pOw3TWf64bqR",
        "colab_type": "code",
        "colab": {},
        "outputId": "207f3a23-dd9c-4904-d60f-317233adbf9b",
        "execution": {
          "iopub.status.busy": "2020-06-26T13:48:08.667Z",
          "iopub.execute_input": "2020-06-26T13:48:08.676Z",
          "iopub.status.idle": "2020-06-26T13:48:08.702Z",
          "shell.execute_reply": "2020-06-26T13:48:08.710Z"
        }
      }
    },
    {
      "cell_type": "code",
      "source": [
        "evaluation.normalized_mutual_information(leiden_coms, lp_coms)"
      ],
      "outputs": [
        {
          "output_type": "execute_result",
          "execution_count": 16,
          "data": {
            "text/plain": [
              "MatchingResult(score=0.5421597004371672, std=None)"
            ]
          },
          "metadata": {}
        }
      ],
      "execution_count": 16,
      "metadata": {
        "id": "lcXJmlJ04bqU",
        "colab_type": "code",
        "colab": {},
        "outputId": "c6a2bdcb-d7a1-4704-ddcf-5ae82d45388d",
        "execution": {
          "iopub.status.busy": "2020-06-26T13:48:09.105Z",
          "iopub.execute_input": "2020-06-26T13:48:09.113Z",
          "iopub.status.idle": "2020-06-26T13:48:09.134Z",
          "shell.execute_reply": "2020-06-26T13:48:09.148Z"
        }
      }
    },
    {
      "cell_type": "markdown",
      "source": [
        "<a id=\"visualization\"></a>\n",
        "### 2.E Community/Statistics Visualization ([to top](#top))\n",
        "\n",
        "``CDlib`` allows to generate two families of predefined plots:\n",
        "- network/community visualizations\n",
        "- community fitness/comparison visualizations"
      ],
      "metadata": {
        "id": "VgmiJIj04bqX",
        "colab_type": "text"
      }
    },
    {
      "cell_type": "markdown",
      "source": [
        "#### 2.E.1 Graph visualization\n",
        "\n",
        "One way to visualize the communities identified on a graph is by coloring graph nodes accordingly"
      ],
      "metadata": {
        "id": "Yot8kIz14bqX",
        "colab_type": "text"
      }
    },
    {
      "cell_type": "code",
      "source": [
        "from cdlib import viz\n",
        "\n",
        "pos = nx.spring_layout(g)\n",
        "viz.plot_network_clusters(g, leiden_coms, pos, figsize=(5, 5))"
      ],
      "outputs": [
        {
          "output_type": "execute_result",
          "execution_count": 17,
          "data": {
            "text/plain": [
              "<matplotlib.collections.PathCollection at 0x14b549490>"
            ]
          },
          "metadata": {}
        },
        {
          "output_type": "display_data",
          "data": {
            "text/plain": [
              "<Figure size 360x360 with 1 Axes>"
            ],
            "image/png": "[encoded data removed]"
          },
          "metadata": {}
        }
      ],
      "execution_count": 17,
      "metadata": {
        "id": "Za99vsQs4bqX",
        "colab_type": "code",
        "colab": {},
        "outputId": "b5d40309-09a3-49b6-86de-5f90c807f70f",
        "execution": {
          "iopub.status.busy": "2020-06-26T13:48:11.253Z",
          "iopub.execute_input": "2020-06-26T13:48:11.263Z",
          "iopub.status.idle": "2020-06-26T13:48:11.496Z",
          "shell.execute_reply": "2020-06-26T13:48:11.515Z"
        }
      }
    },
    {
      "cell_type": "code",
      "source": [
        "viz.plot_network_clusters(g, lp_coms, pos, figsize=(5, 5))"
      ],
      "outputs": [
        {
          "output_type": "execute_result",
          "execution_count": 18,
          "data": {
            "text/plain": [
              "<matplotlib.collections.PathCollection at 0x14b6d18d0>"
            ]
          },
          "metadata": {}
        },
        {
          "output_type": "display_data",
          "data": {
            "text/plain": [
              "<Figure size 360x360 with 1 Axes>"
            ],
            "image/png": "[encoded data removed]"
          },
          "metadata": {}
        }
      ],
      "execution_count": 18,
      "metadata": {
        "id": "3TKDcpAW4bqZ",
        "colab_type": "code",
        "colab": {},
        "outputId": "68a80717-9fb8-41b1-b138-07bb0b87783c",
        "execution": {
          "iopub.status.busy": "2020-06-26T13:48:12.830Z",
          "iopub.execute_input": "2020-06-26T13:48:12.844Z",
          "iopub.status.idle": "2020-06-26T13:48:13.028Z",
          "shell.execute_reply": "2020-06-26T13:48:13.054Z"
        }
      }
    },
    {
      "cell_type": "markdown",
      "source": [
        "Such strategy is feasible when the network is small enogh. In case of medium size graphs an alternative is collapsing all community nodes into a single met-node and visualize the resulting community graph:"
      ],
      "metadata": {
        "id": "2058NAE44bqd",
        "colab_type": "text"
      }
    },
    {
      "cell_type": "code",
      "source": [
        "viz.plot_community_graph(g, leiden_coms, figsize=(3, 3))"
      ],
      "outputs": [
        {
          "output_type": "execute_result",
          "execution_count": 19,
          "data": {
            "text/plain": [
              "<matplotlib.collections.PathCollection at 0x14b7471d0>"
            ]
          },
          "metadata": {}
        },
        {
          "output_type": "display_data",
          "data": {
            "text/plain": [
              "<Figure size 216x216 with 1 Axes>"
            ],
            "image/png": "[encoded data removed]"
          },
          "metadata": {}
        }
      ],
      "execution_count": 19,
      "metadata": {
        "id": "q-UjIg-74bqd",
        "colab_type": "code",
        "colab": {},
        "outputId": "d5f23417-8db1-44d5-ff93-44dce1bf35f6",
        "execution": {
          "iopub.status.busy": "2020-06-26T13:48:17.066Z",
          "iopub.execute_input": "2020-06-26T13:48:17.119Z",
          "iopub.status.idle": "2020-06-26T13:48:17.306Z",
          "shell.execute_reply": "2020-06-26T13:48:17.324Z"
        }
      }
    },
    {
      "cell_type": "code",
      "source": [
        "viz.plot_community_graph(g, lp_coms, figsize=(3, 3))"
      ],
      "outputs": [
        {
          "output_type": "execute_result",
          "execution_count": 20,
          "data": {
            "text/plain": [
              "<matplotlib.collections.PathCollection at 0x14b8468d0>"
            ]
          },
          "metadata": {}
        },
        {
          "output_type": "display_data",
          "data": {
            "text/plain": [
              "<Figure size 216x216 with 1 Axes>"
            ],
            "image/png": "[encoded data removed]"
          },
          "metadata": {}
        }
      ],
      "execution_count": 20,
      "metadata": {
        "id": "jZQikIeL4bqf",
        "colab_type": "code",
        "colab": {},
        "outputId": "37132171-d78f-4a32-8b29-48f1d42f6e17",
        "execution": {
          "iopub.status.busy": "2020-06-26T13:48:18.351Z",
          "iopub.execute_input": "2020-06-26T13:48:18.385Z",
          "iopub.status.idle": "2020-06-26T13:48:18.568Z",
          "shell.execute_reply": "2020-06-26T13:48:18.594Z"
        }
      }
    },
    {
      "cell_type": "markdown",
      "source": [
        "#### 2.E.2 Community fitness/comparison visualization\n",
        "\n",
        "Given one (or more) clustering it could be useful to visualize how a given fitness function distributes over the communities.\n",
        "\n",
        "A nice way to do so is by using violin plots."
      ],
      "metadata": {
        "id": "lnVi52Uo4bqr",
        "colab_type": "text"
      }
    },
    {
      "cell_type": "code",
      "source": [
        "viz.plot_com_stat([leiden_coms, lp_coms], evaluation.internal_edge_density)"
      ],
      "outputs": [
        {
          "output_type": "execute_result",
          "execution_count": 21,
          "data": {
            "text/plain": [
              "<matplotlib.axes._subplots.AxesSubplot at 0x14b87b6d0>"
            ]
          },
          "metadata": {}
        },
        {
          "output_type": "display_data",
          "data": {
            "text/plain": [
              "<Figure size 432x288 with 1 Axes>"
            ],
            "image/png": "[encoded data removed]"
          },
          "metadata": {
            "needs_background": "light"
          }
        }
      ],
      "execution_count": 21,
      "metadata": {
        "id": "Txhztc254bqs",
        "colab_type": "code",
        "colab": {},
        "outputId": "04605620-3b82-4b83-d313-1d71b1534056",
        "execution": {
          "iopub.status.busy": "2020-06-26T13:48:20.337Z",
          "iopub.execute_input": "2020-06-26T13:48:20.352Z",
          "iopub.status.idle": "2020-06-26T13:48:20.540Z",
          "shell.execute_reply": "2020-06-26T13:48:20.566Z"
        }
      }
    },
    {
      "cell_type": "markdown",
      "source": [
        "Another simple visualization type that allows getting a few insights on community characteristics is the scatter plot.\n",
        "\n",
        "We can easily pair-wise compare fitness functions for one or more clustering as follows:"
      ],
      "metadata": {
        "id": "IajnKnhG4bqt",
        "colab_type": "text"
      }
    },
    {
      "cell_type": "code",
      "source": [
        "viz.plot_com_properties_relation([leiden_coms, lp_coms], evaluation.size, evaluation.internal_edge_density)"
      ],
      "outputs": [
        {
          "output_type": "execute_result",
          "execution_count": 22,
          "data": {
            "text/plain": [
              "<seaborn.axisgrid.FacetGrid at 0x14d9380d0>"
            ]
          },
          "metadata": {}
        },
        {
          "output_type": "display_data",
          "data": {
            "text/plain": [
              "<Figure size 360x360 with 1 Axes>"
            ],
            "image/png": "[encoded data removed]"
          },
          "metadata": {
            "needs_background": "light"
          }
        }
      ],
      "execution_count": 22,
      "metadata": {
        "id": "tYP1syJ84bqt",
        "colab_type": "code",
        "colab": {},
        "outputId": "f03d44ad-49c6-4705-f2b4-3f4400ff8fe6",
        "execution": {
          "iopub.status.busy": "2020-06-26T13:48:21.888Z",
          "iopub.execute_input": "2020-06-26T13:48:21.912Z",
          "iopub.status.idle": "2020-06-26T13:48:22.397Z",
          "shell.execute_reply": "2020-06-26T13:48:22.419Z"
        }
      }
    },
    {
      "cell_type": "markdown",
      "source": [
        "Let assume we want to compare different clusterings over a set of network ground truth partitions.\n",
        "\n",
        "In order to obtain a more interesting example, we can generate a few synthetic graphs with planted ground truth clusterings and perform CD upon them. <br/> We can easily visually compare their resuls as follows:"
      ],
      "metadata": {
        "id": "rVEmdrSd4bqv",
        "colab_type": "text"
      }
    },
    {
      "cell_type": "code",
      "source": [
        "from cdlib import NodeClustering\n",
        "\n",
        "g1 = nx.generators.community.LFR_benchmark_graph(1000, 3, 1.5, 0.5, min_community=20, average_degree=5)\n",
        "g2 = nx.generators.community.LFR_benchmark_graph(1000, 3, 1.5, 0.6, min_community=20, average_degree=5)\n",
        "g3 = nx.generators.community.LFR_benchmark_graph(1000, 3, 1.5, 0.7, min_community=20, average_degree=5)\n",
        "\n",
        "names = [\"g1\", \"g2\", \"g3\"]\n",
        "graphs = [g1, g2, g3]\n",
        "references = []\n",
        "\n",
        "# building the NodeClustering ground truth for the graphs\n",
        "for g in graphs:\n",
        "    ground_truth = NodeClustering(communities={frozenset(g.nodes[v]['community']) for v in g}, graph=g, method_name=\"reference\")\n",
        "    references.append(ground_truth)\n",
        "    \n",
        "algos = [algorithms.leiden, algorithms.label_propagation]\n",
        "\n",
        "# Computing the visualization (2 execution per method, NMI as scoring for ground truth resemblance)\n",
        "viz.plot_scoring(graphs, references, names, algos, scoring=evaluation.adjusted_mutual_information, nbRuns=2)"
      ],
      "outputs": [
        {
          "output_type": "execute_result",
          "execution_count": 24,
          "data": {
            "text/plain": [
              "<matplotlib.axes._subplots.AxesSubplot at 0x14eb48610>"
            ]
          },
          "metadata": {}
        },
        {
          "output_type": "display_data",
          "data": {
            "text/plain": [
              "<Figure size 432x288 with 1 Axes>"
            ],
            "image/png": "[encoded data removed]"
          },
          "metadata": {
            "needs_background": "light"
          }
        }
      ],
      "execution_count": 24,
      "metadata": {
        "id": "9sjoAdE94bqv",
        "colab_type": "code",
        "colab": {},
        "outputId": "2a866621-8ff1-407e-bcc2-7b6187bd8141",
        "execution": {
          "iopub.status.busy": "2020-06-26T13:52:55.110Z",
          "iopub.execute_input": "2020-06-26T13:52:55.152Z",
          "iopub.status.idle": "2020-06-26T13:52:56.572Z",
          "shell.execute_reply": "2020-06-26T13:52:56.594Z"
        }
      }
    },
    {
      "cell_type": "markdown",
      "source": [
        "Finally, we can also compare different clustering obtained on the same graph by alternative algorithms among them. <br/>\n",
        "Let's get back to our initial Karate Club graph and compute a few more clusterings upon it:"
      ],
      "metadata": {
        "id": "HEETQ-554bqw",
        "colab_type": "text"
      }
    },
    {
      "cell_type": "code",
      "source": [
        "g = nx.karate_club_graph()\n",
        "\n",
        "lp_coms = algorithms.label_propagation(g)\n",
        "leiden_coms = algorithms.leiden(g)\n",
        "wp_coms = algorithms.walktrap(g)\n",
        "infomap_coms = algorithms.infomap(g)\n",
        "\n",
        "viz.plot_sim_matrix([leiden_coms, lp_coms, wp_coms, infomap_coms],evaluation.adjusted_mutual_information)"
      ],
      "outputs": [
        {
          "output_type": "execute_result",
          "execution_count": 25,
          "data": {
            "text/plain": [
              "<seaborn.matrix.ClusterGrid at 0x7f9dd7fc9be0>"
            ]
          },
          "metadata": {
            "tags": []
          }
        },
        {
          "output_type": "display_data",
          "data": {
            "image/png": "[encoded data removed]",
            "text/plain": [
              "<Figure size 720x720 with 4 Axes>"
            ]
          },
          "metadata": {
            "tags": [],
            "needs_background": "light"
          }
        }
      ],
      "execution_count": null,
      "metadata": {
        "id": "8zcswpYI4bqw",
        "colab_type": "code",
        "colab": {},
        "outputId": "40c7094d-9230-4213-96ba-f7192b8173f0"
      }
    },
    {
      "cell_type": "markdown",
      "source": [
        "<a id='advanced'></a>\n",
        "## 3. Advanced facilities: Pooling and Optimization ([to top](#top))"
      ],
      "metadata": {
        "id": "pn_IWT2v4bqy",
        "colab_type": "text"
      }
    },
    {
      "cell_type": "markdown",
      "source": [
        "``CDlib`` offers a few facilities out-of-the-box to automate the execution of multiple CD approaches over a same graph.\n",
        "\n",
        "The offered facilities can be broadly grouped into two subclasses:\n",
        "- Pooling, and\n",
        "- Optimization\n"
      ],
      "metadata": {
        "id": "PLYBTqWH4bqy",
        "colab_type": "text"
      }
    },
    {
      "cell_type": "markdown",
      "source": [
        "<a id='pooling'></a>\n",
        "### 3.A Pooling\n",
        "\n",
        "Pooling allows to stack the execution of multiple algorithms"
      ],
      "metadata": {
        "id": "ccpQFRq54bqz",
        "colab_type": "text"
      }
    },
    {
      "cell_type": "code",
      "source": [
        "from cdlib import ensemble\n",
        "\n",
        "# Louvain configuration\n",
        "methods = [algorithms.louvain, algorithms.leiden]\n",
        "\n",
        "for coms in ensemble.pool(g, methods, configurations=[[], []]):\n",
        "    print(coms.method_name, \"\\n\", coms.communities)"
      ],
      "outputs": [
        {
          "output_type": "stream",
          "name": "stdout",
          "text": [
            "Louvain \n",
            " [(8, 14, 15, 18, 20, 22, 23, 26, 27, 29, 30, 32, 33), (0, 1, 2, 3, 7, 9, 11, 12, 13, 17, 19, 21), (4, 5, 6, 10, 16), (24, 25, 28, 31)]\n",
            "Leiden \n",
            " [[8, 9, 14, 15, 18, 20, 22, 26, 29, 30, 32, 33], [0, 1, 2, 3, 7, 11, 12, 13, 17, 19, 21], [23, 24, 25, 27, 28, 31], [4, 5, 6, 10, 16]]\n"
          ]
        }
      ],
      "execution_count": null,
      "metadata": {
        "id": "tT3kyTr44bqz",
        "colab_type": "code",
        "colab": {},
        "outputId": "d276716b-0220-47ec-b247-2fafc4a0cd05"
      }
    },
    {
      "cell_type": "markdown",
      "source": [
        "The ``configuration`` parameter allows to define a list of parameters for each algorithm. <br/>\n",
        "Each list must contains only instances of either ``Parameter`` or ``BoolParameter`` namedtuples."
      ],
      "metadata": {
        "id": "qsHG7Kp34bq0",
        "colab_type": "text"
      }
    },
    {
      "cell_type": "code",
      "source": [
        "# Example of Louvain configuration\n",
        "resolution = ensemble.Parameter(name=\"resolution\", start=0.1)\n",
        "randomize = ensemble.BoolParameter(name=\"randomize\", value=True)\n",
        "louvain_conf = [resolution, randomize]\n",
        "\n",
        "methods = [algorithms.louvain, algorithms.leiden]\n",
        "\n",
        "for communities in ensemble.pool(g, methods, [louvain_conf, []]):\n",
        "    print(coms.method_name, \"\\n\", coms.communities)"
      ],
      "outputs": [
        {
          "output_type": "stream",
          "name": "stdout",
          "text": [
            "Leiden \n",
            " [[8, 9, 14, 15, 18, 20, 22, 26, 29, 30, 32, 33], [0, 1, 2, 3, 7, 11, 12, 13, 17, 19, 21], [23, 24, 25, 27, 28, 31], [4, 5, 6, 10, 16]]\n",
            "Leiden \n",
            " [[8, 9, 14, 15, 18, 20, 22, 26, 29, 30, 32, 33], [0, 1, 2, 3, 7, 11, 12, 13, 17, 19, 21], [23, 24, 25, 27, 28, 31], [4, 5, 6, 10, 16]]\n"
          ]
        }
      ],
      "execution_count": null,
      "metadata": {
        "id": "6iFnIHSv4bq0",
        "colab_type": "code",
        "colab": {},
        "outputId": "c99533d6-9ac2-4606-ffe7-53b64e8b43a6"
      }
    },
    {
      "cell_type": "markdown",
      "source": [
        "``Parameter`` and ``BoolParameter`` allows to define also grid ranges, for instance:"
      ],
      "metadata": {
        "id": "nilPGFRE4bq2",
        "colab_type": "text"
      }
    },
    {
      "cell_type": "code",
      "source": [
        "resolution = ensemble.Parameter(name=\"resolution\", start=0.1, end=1, step=0.1) # numeric range\n",
        "randomize = ensemble.BoolParameter(name=\"randomize\") # boolean range [True, False]"
      ],
      "outputs": [],
      "execution_count": null,
      "metadata": {
        "id": "kuy3hum-4bq2",
        "colab_type": "code",
        "colab": {}
      }
    },
    {
      "cell_type": "markdown",
      "source": [
        "Such generalization allows for their use into another pooling facility: Grid Execution.\n",
        "\n",
        "Grid Execution takes care to instantiate a CD algorithm with all the possible combination of parameter values (cartesian product) as expressed by the ranges passed as input."
      ],
      "metadata": {
        "id": "JLp0LKsa4bq3",
        "colab_type": "text"
      }
    },
    {
      "cell_type": "code",
      "source": [
        "resolution = ensemble.Parameter(name=\"resolution\", start=0.7, end=1, step=0.1)\n",
        "\n",
        "for coms in ensemble.grid_execution(graph=g, method=algorithms.louvain, parameters=[resolution]):\n",
        "    print(coms.method_name, coms.method_parameters, \"\\n\", coms.communities, \"\\n\")"
      ],
      "outputs": [
        {
          "output_type": "stream",
          "name": "stdout",
          "text": [
            "Louvain {'weight': 'weight', 'resolution': 0.7, 'randomize': False} \n",
            " [(0, 1, 2, 3, 7, 9, 11, 12, 13, 17, 19, 21), (8, 14, 15, 18, 20, 22, 30, 32, 33), (4, 5, 6, 10, 16), (23, 26, 27, 29), (24, 25, 28, 31)] \n",
            "\n",
            "Louvain {'weight': 'weight', 'resolution': 0.7999999999999999, 'randomize': False} \n",
            " [(8, 14, 15, 18, 20, 22, 23, 26, 27, 29, 30, 32, 33), (0, 1, 2, 3, 7, 9, 11, 12, 13, 17, 19, 21), (4, 5, 6, 10, 16), (24, 25, 28, 31)] \n",
            "\n",
            "Louvain {'weight': 'weight', 'resolution': 0.8999999999999999, 'randomize': False} \n",
            " [(8, 14, 15, 18, 20, 22, 23, 26, 27, 29, 30, 32, 33), (0, 1, 2, 3, 7, 9, 11, 12, 13, 17, 19, 21), (4, 5, 6, 10, 16), (24, 25, 28, 31)] \n",
            "\n",
            "Louvain {'weight': 'weight', 'resolution': 0.9999999999999999, 'randomize': False} \n",
            " [(8, 14, 15, 18, 20, 22, 23, 26, 27, 29, 30, 32, 33), (0, 1, 2, 3, 7, 9, 11, 12, 13, 17, 19, 21), (4, 5, 6, 10, 16), (24, 25, 28, 31)] \n",
            "\n"
          ]
        }
      ],
      "execution_count": null,
      "metadata": {
        "id": "VIsekF3u4bq3",
        "colab_type": "code",
        "colab": {},
        "outputId": "f1f2c46d-2bed-427f-97d9-f32135214539"
      }
    },
    {
      "cell_type": "markdown",
      "source": [
        "<a id='optimization'></a>\n",
        "### 3.A Optimization\n",
        "\n",
        "Often it make sense to execute a given CD algorithm multiple times, varying its parameters, so to identify the optimal configuration w.r.t. a given fitness score."
      ],
      "metadata": {
        "id": "A7wqZ0Cz4bre",
        "colab_type": "text"
      }
    },
    {
      "cell_type": "markdown",
      "source": [
        "The esiest way to do so is by performing a grid search:"
      ],
      "metadata": {
        "id": "_SpeN4oR4bre",
        "colab_type": "text"
      }
    },
    {
      "cell_type": "code",
      "source": [
        "resolution = ensemble.Parameter(name=\"resolution\", start=0.1, end=1, step=0.1)\n",
        "randomize = ensemble.BoolParameter(name=\"randomize\")\n",
        "\n",
        "coms, scoring = ensemble.grid_search(graph=g, method=algorithms.louvain,\n",
        "                                                     parameters=[resolution, randomize],\n",
        "                                                     quality_score=evaluation.erdos_renyi_modularity,\n",
        "                                                     aggregate=max)\n",
        "\n",
        "print(\"Communities:\\n %s \\nConfiguration: %s \\nScoring: %s\" %(coms.communities, coms.method_parameters, scoring))"
      ],
      "outputs": [
        {
          "output_type": "stream",
          "name": "stdout",
          "text": [
            "Communities:\n",
            " [(8, 14, 15, 18, 20, 22, 23, 26, 27, 29, 30, 32, 33), (0, 1, 2, 3, 7, 9, 11, 12, 13, 17, 19, 21), (4, 5, 6, 10, 16), (24, 25, 28, 31)] \n",
            "Configuration: {'weight': 'weight', 'resolution': 0.8, 'randomize': True} \n",
            "Scoring: 0.4712052653229123\n"
          ]
        }
      ],
      "execution_count": null,
      "metadata": {
        "id": "KnwQgStL4bre",
        "colab_type": "code",
        "colab": {},
        "outputId": "00c3f4a4-5c59-4f8a-ab43-f33ad1719797"
      }
    },
    {
      "cell_type": "markdown",
      "source": [
        "Grid search will execute **all** the possible configuration as expressed by the method parameters and return only the optimal partition w.r.t. the specified fitness function (ER modularity in our example) and aggregation function (we want to maximize the fitness score)."
      ],
      "metadata": {
        "id": "w-sHH1f54brf",
        "colab_type": "text"
      }
    },
    {
      "cell_type": "markdown",
      "source": [
        "Indeed, such strategy could be costly. <br/>\n",
        "For this reason ``CDlib`` aslo implements a random search optimization strategy that reduces the number of method instantiation over the configuration grids (controlling it through the ``instance`` parameter value)."
      ],
      "metadata": {
        "id": "dlOMwK_Q4brf",
        "colab_type": "text"
      }
    },
    {
      "cell_type": "code",
      "source": [
        "communities, scoring = ensemble.random_search(graph=g, method=algorithms.louvain,\n",
        "                                                       parameters=[resolution, randomize],\n",
        "                                                       quality_score=evaluation.erdos_renyi_modularity,\n",
        "                                                       instances=5, aggregate=max)\n",
        "\n",
        "print(\"Communities:\\n %s \\nConfiguration: %s \\nScoring: %s\" %(coms.communities, coms.method_parameters, scoring))"
      ],
      "outputs": [
        {
          "output_type": "stream",
          "name": "stdout",
          "text": [
            "Communities:\n",
            " [(8, 14, 15, 18, 20, 22, 23, 26, 27, 29, 30, 32, 33), (0, 1, 2, 3, 7, 9, 11, 12, 13, 17, 19, 21), (4, 5, 6, 10, 16), (24, 25, 28, 31)] \n",
            "Configuration: {'weight': 'weight', 'resolution': 0.8, 'randomize': True} \n",
            "Scoring: 0.4712052653229123\n"
          ]
        }
      ],
      "execution_count": null,
      "metadata": {
        "id": "z8GFdl684brf",
        "colab_type": "code",
        "colab": {},
        "outputId": "968d0e2c-5d22-46ac-8588-e29403f27ca6"
      }
    },
    {
      "cell_type": "markdown",
      "source": [
        "Finally, we can think of combining pooling and optimization to get only the optimal results for all the algorithms we want to apply to our graph.\n",
        "\n",
        "In ``CDlib`` we can do it easily as follows:"
      ],
      "metadata": {
        "id": "_rrpnapP4brh",
        "colab_type": "text"
      }
    },
    {
      "cell_type": "code",
      "source": [
        "louvain_conf = [resolution, randomize]\n",
        "\n",
        "epsilon = ensemble.Parameter(name=\"epsilon\", start=0.2, end=0.7, step=0.1)\n",
        "demon_conf = [epsilon]\n",
        "\n",
        "methods = [algorithms.louvain, algorithms.demon]\n",
        "\n",
        "for coms, scoring in ensemble.pool_grid_filter(g, methods, [louvain_conf, demon_conf], quality_score=evaluation.erdos_renyi_modularity, aggregate=max):\n",
        "    print(\"%s\\nCommunities:\\n %s \\nConfiguration: %s \\nScoring: %s\\n\" %(coms.method_name, coms.communities, coms.method_parameters, scoring))"
      ],
      "outputs": [
        {
          "output_type": "stream",
          "name": "stdout",
          "text": [
            "Louvain\n",
            "Communities:\n",
            " [(8, 14, 15, 18, 20, 22, 23, 26, 27, 29, 30, 32, 33), (0, 1, 2, 3, 7, 9, 11, 12, 13, 17, 19, 21), (4, 5, 6, 10, 16), (24, 25, 28, 31)] \n",
            "Configuration: {'weight': 'weight', 'resolution': 0.8, 'randomize': False} \n",
            "Scoring: 0.4712052653229123\n",
            "\n",
            "DEMON\n",
            "Communities:\n",
            " [(2, 8, 14, 15, 18, 20, 22, 23, 26, 27, 29, 30, 31, 32, 33), (8, 14, 15, 18, 20, 22, 23, 26, 27, 28, 29, 30, 31, 32, 33), (0, 1, 2, 3, 7, 8, 12, 13, 17, 19, 21, 30, 32, 33), (0, 4, 5, 6, 10, 16)] \n",
            "Configuration: {'epsilon': 0.5000000000000001, 'min_com_size': 3} \n",
            "Scoring: 0.757232963115316\n",
            "\n"
          ]
        }
      ],
      "execution_count": null,
      "metadata": {
        "id": "_DTt3S694brh",
        "colab_type": "code",
        "colab": {},
        "outputId": "a3199e55-62f5-4a89-c485-452a39eae390"
      }
    },
    {
      "cell_type": "markdown",
      "source": [
        "<a id=\"conclusion\"></a>\n",
        "## 4. Conclusions ([to top](#top))"
      ],
      "metadata": {
        "id": "Odl9zVxb4bri",
        "colab_type": "text"
      }
    },
    {
      "cell_type": "markdown",
      "source": [
        "In this notebook we introduced the basic facilities offered by ``CDlib``.\n",
        "\n",
        "For any issue, suggestion, bug report feel free to contact us on the official [GitHub repository](https://github.com/GiulioRossetti/cdlib) of the project."
      ],
      "metadata": {
        "id": "0RG-texz4brj",
        "colab_type": "text"
      }
    },
    {
      "cell_type": "code",
      "source": [],
      "outputs": [],
      "execution_count": null,
      "metadata": {
        "id": "FIMp6HKZ4brj",
        "colab_type": "code",
        "colab": {}
      }
    }
  ],
  "metadata": {
    "kernelspec": {
      "display_name": "Python 3",
      "language": "python",
      "name": "python3"
    },
    "language_info": {
      "name": "python",
      "version": "3.7.5",
      "mimetype": "text/x-python",
      "codemirror_mode": {
        "name": "ipython",
        "version": 3
      },
      "pygments_lexer": "ipython3",
      "nbconvert_exporter": "python",
      "file_extension": ".py"
    },
    "colab": {
      "name": "CDlib.ipynb",
      "provenance": []
    },
    "nteract": {
      "version": "0.22.0"
    }
  },
  "nbformat": 4,
  "nbformat_minor": 0
}